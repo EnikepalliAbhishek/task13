{
 "cells": [
  {
   "cell_type": "markdown",
   "id": "89ffda57",
   "metadata": {},
   "source": [
    "1. Write a function called \"add_numbers\" that takes two integers as input and returns their sum.\n",
    "\n",
    "2. Write a function called \"multiply_numbers\" that takes two integers as input and returns their product.\n",
    "\n",
    "3. Write a function called \"calculate_average\" that takes a list of numbers as input and returns the average of thosenumbers.\n",
    "\n",
    "4. Write a function called \"is_even\" that takes an integer as input and returns True if the number is even, and False otherwise.\n",
    "\n",
    "5. Write a function called \"reverse_string\" that takes a string as input and returns the reverse of that string.\n",
    "\n",
    "6. Write a function called \"count_vowels\" that takes a string as input and returns the number of vowels (a, e, i, o, u) in that string.\n",
    "\n",
    "7. Write a function called \"find_max\" that takes a list of numbers as input and returns the maximum value in that list.\n",
    "\n",
    "8. Write a function called \"find_min\" that takes a list of numbers as input and returns the minimum value in that list."
   ]
  },
  {
   "cell_type": "raw",
   "id": "31a410ca",
   "metadata": {},
   "source": [
    "Write a function called \"add_numbers\" that takes two integers as input and returns their sum."
   ]
  },
  {
   "cell_type": "code",
   "execution_count": 2,
   "id": "9caeb48b",
   "metadata": {},
   "outputs": [],
   "source": [
    "def add (a,b,):\n",
    "    print(a+b)"
   ]
  },
  {
   "cell_type": "code",
   "execution_count": 4,
   "id": "2af978a7",
   "metadata": {},
   "outputs": [
    {
     "name": "stdout",
     "output_type": "stream",
     "text": [
      "a 1\n",
      "b 2\n",
      "3\n"
     ]
    }
   ],
   "source": [
    "a = int(input(\"a \"))\n",
    "b = int(input(\"b \"))\n",
    "add(a,b)"
   ]
  },
  {
   "cell_type": "raw",
   "id": "05809c4e",
   "metadata": {},
   "source": [
    "Write a function called \"multiply_numbers\" that takes two integers as input and returns their product"
   ]
  },
  {
   "cell_type": "code",
   "execution_count": 1,
   "id": "c09444eb",
   "metadata": {},
   "outputs": [],
   "source": [
    "def mul (a,b):\n",
    "    print(a*b)"
   ]
  },
  {
   "cell_type": "code",
   "execution_count": 2,
   "id": "7bf8e18c",
   "metadata": {},
   "outputs": [
    {
     "name": "stdout",
     "output_type": "stream",
     "text": [
      "a 2\n",
      "b 3\n",
      "6\n"
     ]
    }
   ],
   "source": [
    "a = int(input(\"a \"))\n",
    "b = int(input(\"b \"))\n",
    "mul(a,b)"
   ]
  },
  {
   "cell_type": "raw",
   "id": "b690a5aa",
   "metadata": {},
   "source": [
    "Write a function called \"calculate_average\" that takes a list of numbers as input and returns the average of thosenumbers."
   ]
  },
  {
   "cell_type": "code",
   "execution_count": 10,
   "id": "cf894382",
   "metadata": {},
   "outputs": [],
   "source": [
    "def abhi(a,b):\n",
    "    print((a+b)/2)"
   ]
  },
  {
   "cell_type": "code",
   "execution_count": 11,
   "id": "dfeff1dc",
   "metadata": {},
   "outputs": [
    {
     "name": "stdout",
     "output_type": "stream",
     "text": [
      "15.0\n"
     ]
    }
   ],
   "source": [
    "abhi(a=10,b=20)"
   ]
  },
  {
   "cell_type": "raw",
   "id": "f1d47e25",
   "metadata": {},
   "source": [
    "4. Write a function called \"is_even\" that takes an integer as input and returns True if the number is even, and False otherwise.\n"
   ]
  },
  {
   "cell_type": "code",
   "execution_count": 12,
   "id": "94304825",
   "metadata": {},
   "outputs": [
    {
     "name": "stdout",
     "output_type": "stream",
     "text": [
      "True\n"
     ]
    }
   ],
   "source": [
    "def even(a):\n",
    "    if a%2==0:\n",
    "        print(\"True\")\n",
    "    else:\n",
    "        print(\"False\")\n",
    "even(2)"
   ]
  },
  {
   "cell_type": "code",
   "execution_count": 13,
   "id": "4c947734",
   "metadata": {},
   "outputs": [
    {
     "name": "stdout",
     "output_type": "stream",
     "text": [
      "False\n"
     ]
    }
   ],
   "source": [
    "even(a=23)"
   ]
  },
  {
   "cell_type": "raw",
   "id": "53b3a9ff",
   "metadata": {},
   "source": [
    "Write a function called \"reverse_string\" that takes a string as input and returns the reverse of that string."
   ]
  },
  {
   "cell_type": "code",
   "execution_count": 23,
   "id": "b978107c",
   "metadata": {},
   "outputs": [],
   "source": [
    "def abhi(a):\n",
    "    print(a[::-1])"
   ]
  },
  {
   "cell_type": "code",
   "execution_count": 24,
   "id": "a6f213e2",
   "metadata": {},
   "outputs": [
    {
     "name": "stdout",
     "output_type": "stream",
     "text": [
      "kehsihba\n"
     ]
    }
   ],
   "source": [
    "abhi(\"abhishek\")"
   ]
  },
  {
   "cell_type": "raw",
   "id": "7944ef52",
   "metadata": {},
   "source": [
    "Write a function called \"count_vowels\" that takes a string as input and returns the number of vowels (a, e, i, o, u) in that string."
   ]
  },
  {
   "cell_type": "code",
   "execution_count": 44,
   "id": "6681851b",
   "metadata": {},
   "outputs": [],
   "source": [
    "vowels=[\"a\",\"e\",\"i\",\"o\",\"u\"]\n",
    "ov=[]\n",
    "def abhi(x):\n",
    "    for i in x:\n",
    "        if i in vowels:\n",
    "            ov.append(i)\n",
    "    print(len(ov))"
   ]
  },
  {
   "cell_type": "code",
   "execution_count": 45,
   "id": "3638a4b5",
   "metadata": {},
   "outputs": [
    {
     "name": "stdout",
     "output_type": "stream",
     "text": [
      "3\n"
     ]
    }
   ],
   "source": [
    "abhi(\"abhishek\")"
   ]
  },
  {
   "cell_type": "raw",
   "id": "46cc07a4",
   "metadata": {},
   "source": [
    "7. Write a function called \"find_max\" that takes a list of numbers as input and returns the maximum value in that list.\n"
   ]
  },
  {
   "cell_type": "code",
   "execution_count": 46,
   "id": "b2f087b5",
   "metadata": {},
   "outputs": [],
   "source": [
    "def abhi(a):\n",
    "    print(max(a))"
   ]
  },
  {
   "cell_type": "code",
   "execution_count": 49,
   "id": "e16f0ce2",
   "metadata": {},
   "outputs": [
    {
     "name": "stdout",
     "output_type": "stream",
     "text": [
      "898\n"
     ]
    }
   ],
   "source": [
    "abhi([1,2,3,4,5,6,7,8,898])"
   ]
  },
  {
   "cell_type": "raw",
   "id": "98e2b8d9",
   "metadata": {},
   "source": [
    "Write a function called \"find_min\" that takes a list of numbers as input and returns the minimum value in that list."
   ]
  },
  {
   "cell_type": "code",
   "execution_count": 52,
   "id": "79728c3e",
   "metadata": {},
   "outputs": [],
   "source": [
    "def abhi(a):\n",
    "    print(min(a))"
   ]
  },
  {
   "cell_type": "code",
   "execution_count": 53,
   "id": "462bad8b",
   "metadata": {},
   "outputs": [
    {
     "name": "stdout",
     "output_type": "stream",
     "text": [
      "1\n"
     ]
    }
   ],
   "source": [
    "abhi([1,2,3,4,5,6,7,8,898])"
   ]
  },
  {
   "cell_type": "code",
   "execution_count": null,
   "id": "3ab7205c",
   "metadata": {},
   "outputs": [],
   "source": []
  }
 ],
 "metadata": {
  "kernelspec": {
   "display_name": "Python 3 (ipykernel)",
   "language": "python",
   "name": "python3"
  },
  "language_info": {
   "codemirror_mode": {
    "name": "ipython",
    "version": 3
   },
   "file_extension": ".py",
   "mimetype": "text/x-python",
   "name": "python",
   "nbconvert_exporter": "python",
   "pygments_lexer": "ipython3",
   "version": "3.11.4"
  }
 },
 "nbformat": 4,
 "nbformat_minor": 5
}
